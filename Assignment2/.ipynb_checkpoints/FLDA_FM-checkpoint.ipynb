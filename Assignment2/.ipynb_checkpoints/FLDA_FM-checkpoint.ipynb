{
 "cells": [
  {
   "cell_type": "code",
   "execution_count": 1,
   "metadata": {},
   "outputs": [],
   "source": [
    "import numpy as np\n",
    "from csv import reader\n",
    "from matplotlib import pyplot as plt\n",
    "from mpl_toolkits.mplot3d import Axes3D\n",
    "from data.fashion_mnist_master.utils import mnist_reader"
   ]
  },
  {
   "cell_type": "code",
   "execution_count": 2,
   "metadata": {},
   "outputs": [],
   "source": [
    "def load_csv(filename):\n",
    "    dataset = list()\n",
    "    data=list()\n",
    "    lables=list()\n",
    "    with open(filename, 'r') as file:\n",
    "        csv_reader = reader(file)\n",
    "        for row in csv_reader:\n",
    "            if not row:\n",
    "                continue\n",
    "            dataset.append(row)\n",
    "    dataset.pop(0)\n",
    "    for rows in dataset:\n",
    "        lab=rows[0]\n",
    "        rows.remove(lab)\n",
    "        lables.append(lab)\n",
    "        rows = [float(i) for i in rows]\n",
    "        data.append(rows)\n",
    "    return data,lables"
   ]
  },
  {
   "cell_type": "code",
   "execution_count": 3,
   "metadata": {},
   "outputs": [],
   "source": [
    "def classData(data,lables):\n",
    "    Cdata={}\n",
    "    for j in classes:\n",
    "        Cdata[j]=list()\n",
    "    for i in range(len(lables)):\n",
    "        Cdata[lables[i]].append(data[i])\n",
    "    return Cdata"
   ]
  },
  {
   "cell_type": "code",
   "execution_count": 4,
   "metadata": {},
   "outputs": [],
   "source": [
    "def means(data,lables):\n",
    "    dat=np.array(data)\n",
    "    sums={}\n",
    "    num={}\n",
    "    for j in classes:\n",
    "        sums[j]=np.array([0]*dim)\n",
    "        num[j]=0\n",
    "    for i in range(len(lables)):\n",
    "#         print(sums[lables[i]])\n",
    "        sums[lables[i]]=sums[lables[i]]+dat[i]\n",
    "        num[lables[i]]=num[lables[i]]+1\n",
    "    means={}\n",
    "    for lab in sums:\n",
    "        means[lab]=sums[lab]/num[lab]\n",
    "    Cmeans=means\n",
    "    return Cmeans"
   ]
  },
  {
   "cell_type": "code",
   "execution_count": 5,
   "metadata": {},
   "outputs": [],
   "source": [
    "def mean(data):\n",
    "    dat=np.array(data)\n",
    "    num=0\n",
    "    sums=np.array([0]*dim)\n",
    "    for i in range (len(dat)):\n",
    "        sums=sums+dat[i]\n",
    "        num+=1\n",
    "    return np.array(sums/num)"
   ]
  },
  {
   "cell_type": "code",
   "execution_count": 6,
   "metadata": {},
   "outputs": [],
   "source": [
    "def CSb(Cdata,Cmeans,mean):\n",
    "    mean=np.array(mean)\n",
    "    S_B={}\n",
    "    for j in Cmeans.keys():\n",
    "        S_B[j] = np.zeros((dim,dim))         \n",
    "    for i in Cmeans.keys():  \n",
    "        S_B[i] += len(Cdata[i])*np.outer((Cmeans[i] - mean),(Cmeans[i] - mean))\n",
    "    return S_B"
   ]
  },
  {
   "cell_type": "code",
   "execution_count": 7,
   "metadata": {},
   "outputs": [],
   "source": [
    "def Sb(Cdata,Cmeans,mean):\n",
    "    mean=np.array(mean)\n",
    "    S_B = np.zeros((dim,dim))         \n",
    "    for i in Cmeans.keys():  \n",
    "        S_B += len(Cdata[i])*np.outer((Cmeans[i] - mean),(Cmeans[i] - mean))\n",
    "    return S_B"
   ]
  },
  {
   "cell_type": "code",
   "execution_count": null,
   "metadata": {},
   "outputs": [],
   "source": [
    "def Sw(Cdata,Cmeans):\n",
    "    S_W=np.zeros((dim,dim))\n",
    "    for i in Cmeans.keys():\n",
    "        print(i , ' is complete')\n",
    "        for row in Cdata[i]:\n",
    "            S_W+=np.outer((row-Cmeans[i]),(row-Cmeans[i]))\n",
    "            if(Cdata.index(row)%1000==0):\n",
    "                print('this is done')\n",
    "    return S_W"
   ]
  },
  {
   "cell_type": "code",
   "execution_count": 9,
   "metadata": {},
   "outputs": [],
   "source": [
    "def Ceigen(CSb,Sw):\n",
    "    mat={}\n",
    "    eigvals={}\n",
    "    eigvecs={}\n",
    "    eig={}\n",
    "    for k in classes:\n",
    "        mat[k] = np.dot(np.linalg.pinv(Sw), CSb[k])         \n",
    "        eigvals[k], eigvecs[k] = np.linalg.eig(mat[k])         \n",
    "        eig[k] = [(eigvals[k][i], eigvecs[k][:, i]) for i in range(len(eigvals[k]))]\n",
    "        eig[k] = sorted(eig[k], key = lambda x : x[0], reverse = True) \n",
    "    return eig"
   ]
  },
  {
   "cell_type": "code",
   "execution_count": 10,
   "metadata": {},
   "outputs": [],
   "source": [
    "def eigen(Sb,Sw):\n",
    "    mat = np.dot(np.linalg.pinv(Sw), Sb)         \n",
    "    eigvals, eigvecs = np.linalg.eig(mat)         \n",
    "    eig = [(eigvals[i], eigvecs[:, i]) for i in range(len(eigvals))]\n",
    "    eig = sorted(eig, key = lambda x : x[0], reverse = True) \n",
    "    return eig"
   ]
  },
  {
   "cell_type": "code",
   "execution_count": 11,
   "metadata": {},
   "outputs": [],
   "source": [
    "def projData(w,x):\n",
    "    x=np.array(x)\n",
    "    w=np.array(w)\n",
    "    return (np.dot(x,w.T))"
   ]
  },
  {
   "cell_type": "markdown",
   "metadata": {},
   "source": [
    "----------------------Test------------------"
   ]
  },
  {
   "cell_type": "code",
   "execution_count": 12,
   "metadata": {},
   "outputs": [],
   "source": [
    "X_train, y_train = mnist_reader.load_mnist('data/fashion_mnist_master/data/fashion', kind='train')\n",
    "X_test, y_test = mnist_reader.load_mnist('data/fashion_mnist_master/data/fashion', kind='t10k')"
   ]
  },
  {
   "cell_type": "code",
   "execution_count": 13,
   "metadata": {},
   "outputs": [],
   "source": [
    "classes=list(set(y_train))\n",
    "numC=len(classes)\n",
    "dim=X_train.shape[1]"
   ]
  },
  {
   "cell_type": "code",
   "execution_count": 14,
   "metadata": {},
   "outputs": [],
   "source": [
    "Cmeans=means(X_train,y_train)"
   ]
  },
  {
   "cell_type": "code",
   "execution_count": 15,
   "metadata": {},
   "outputs": [],
   "source": [
    "Mean=mean(X_train)"
   ]
  },
  {
   "cell_type": "code",
   "execution_count": 16,
   "metadata": {},
   "outputs": [],
   "source": [
    "Cdata=classData(X_train,y_train)"
   ]
  },
  {
   "cell_type": "code",
   "execution_count": 17,
   "metadata": {},
   "outputs": [],
   "source": [
    "S_b=Sb(Cdata,Cmeans,Mean)"
   ]
  },
  {
   "cell_type": "code",
   "execution_count": null,
   "metadata": {},
   "outputs": [],
   "source": [
    "S_w=Sw(Cdata,Cmeans)"
   ]
  },
  {
   "cell_type": "code",
   "execution_count": null,
   "metadata": {},
   "outputs": [],
   "source": [
    "Eg=eigen(S_b,S_w)"
   ]
  }
 ],
 "metadata": {
  "kernelspec": {
   "display_name": "Python 3",
   "language": "python",
   "name": "python3"
  },
  "language_info": {
   "codemirror_mode": {
    "name": "ipython",
    "version": 3
   },
   "file_extension": ".py",
   "mimetype": "text/x-python",
   "name": "python",
   "nbconvert_exporter": "python",
   "pygments_lexer": "ipython3",
   "version": "3.6.5"
  }
 },
 "nbformat": 4,
 "nbformat_minor": 2
}
